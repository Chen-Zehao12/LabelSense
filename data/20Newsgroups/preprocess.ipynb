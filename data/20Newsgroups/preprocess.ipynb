{
 "cells": [
  {
   "cell_type": "code",
   "execution_count": null,
   "metadata": {},
   "outputs": [],
   "source": [
    "import json\n",
    "from collections import defaultdict\n",
    "import re\n",
    "import numpy as np\n",
    "import random"
   ]
  },
  {
   "cell_type": "code",
   "execution_count": null,
   "metadata": {},
   "outputs": [],
   "source": [
    "with open('origin/train.jsonl') as f:\n",
    "    train = f.readlines()\n",
    "    train = list(map(json.loads, train))\n",
    "\n",
    "with open('origin/test.jsonl') as f:\n",
    "    test = f.readlines()\n",
    "    test = list(map(json.loads, test))"
   ]
  },
  {
   "cell_type": "code",
   "execution_count": null,
   "metadata": {},
   "outputs": [],
   "source": [
    "# delete \\n and \\\n",
    "for line in train:\n",
    "    line['text'] = line['text'].replace('\\n', ' ')\n",
    "    line['text'] = line['text'].replace('\\\\', '')\n",
    "\n",
    "for line in test:\n",
    "    line['text'] = line['text'].replace('\\n', ' ')\n",
    "    line['text'] = line['text'].replace('\\\\', '')"
   ]
  },
  {
   "cell_type": "code",
   "execution_count": null,
   "metadata": {},
   "outputs": [],
   "source": [
    "# count classes\n",
    "train_class_count = defaultdict(int)\n",
    "test_class_count = defaultdict(int)\n",
    "\n",
    "for line in train:\n",
    "    train_class_count[line['label_text']] += 1\n",
    "\n",
    "for line in test:\n",
    "    test_class_count[line['label_text']] += 1\n",
    "\n",
    "unseen_class_count = train_class_count.keys() - test_class_count.keys()"
   ]
  },
  {
   "cell_type": "code",
   "execution_count": null,
   "metadata": {},
   "outputs": [],
   "source": [
    "print('Number of train data:', len(train))\n",
    "print('Number of test data:', len(test))\n",
    "\n",
    "print('Number of classes in train data:', len(train_class_count))\n",
    "print('Number of classes in test data:', len(test_class_count))\n",
    "print('Number of unseen classes:', len(unseen_class_count))\n",
    "\n",
    "print('Count of train label:\\n', sorted(train_class_count.items(), key=lambda x: -x[1]))\n",
    "print('Count of test label:\\n', sorted(test_class_count.items(), key=lambda x: -x[1]))"
   ]
  },
  {
   "cell_type": "code",
   "execution_count": null,
   "metadata": {},
   "outputs": [],
   "source": [
    "# label2id\n",
    "label2id = dict()\n",
    "\n",
    "for line in train:\n",
    "    if line['label_text'] not in label2id:\n",
    "        label2id[line['label_text']] = line['label']\n",
    "\n",
    "for line in test:\n",
    "    if line['label_text'] not in label2id:\n",
    "        label2id[line['label_text']] = line['label']\n",
    "\n",
    "id2label = {v: k for k, v in label2id.items()}"
   ]
  },
  {
   "cell_type": "code",
   "execution_count": null,
   "metadata": {},
   "outputs": [],
   "source": [
    "# delete long tail data\n",
    "label_collection = [[] for _ in range(len(train_class_count))]\n",
    "for line in train:\n",
    "    idx = label2id[line['label_text']]\n",
    "    label_collection[idx].append(line)\n",
    "\n",
    "threshold = int(np.percentile([len(t) for t in label_collection], 25))\n",
    "label_collection = [t[:threshold] for t in label_collection if len(t) >= threshold]"
   ]
  },
  {
   "cell_type": "code",
   "execution_count": null,
   "metadata": {},
   "outputs": [],
   "source": [
    "# refresh label2id\n",
    "label2id = dict()\n",
    "for idx, piece in enumerate(label_collection):\n",
    "    label2id[piece[0]['label_text']] = idx\n",
    "\n",
    "id2label = {v: k for k, v in label2id.items()}"
   ]
  },
  {
   "cell_type": "code",
   "execution_count": null,
   "metadata": {},
   "outputs": [],
   "source": [
    "# delete unseen test\n",
    "idx = 0\n",
    "while idx < len(test):\n",
    "    if test[idx]['label_text'] not in label2id:\n",
    "        test.pop(idx)\n",
    "    else:\n",
    "        idx += 1"
   ]
  },
  {
   "cell_type": "code",
   "execution_count": null,
   "metadata": {},
   "outputs": [],
   "source": [
    "with open('id2label.json', 'w') as f:\n",
    "    json.dump(id2label, f, ensure_ascii=False, indent=2)\n",
    "\n",
    "with open('label2id.json', 'w') as f:\n",
    "    json.dump(label2id, f, ensure_ascii=False, indent=2)"
   ]
  },
  {
   "cell_type": "code",
   "execution_count": null,
   "metadata": {},
   "outputs": [],
   "source": [
    "# shuffle train dataset\n",
    "collection_pointer = [0] * len(label_collection)\n",
    "\n",
    "shuffle_train = []\n",
    "global_idx, idx = 0, 0\n",
    "while global_idx < sum(len(t) for t in label_collection):\n",
    "    if collection_pointer[idx] < len(label_collection[idx]):\n",
    "        shuffle_train.append(label_collection[idx][collection_pointer[idx]])\n",
    "        collection_pointer[idx] += 1\n",
    "        idx = (idx + 1) % len(label_collection)\n",
    "        global_idx += 1\n",
    "    else:\n",
    "        idx = (idx + 1) % len(label_collection) "
   ]
  },
  {
   "cell_type": "code",
   "execution_count": null,
   "metadata": {},
   "outputs": [],
   "source": [
    "print('Number of train data:', len(shuffle_train))\n",
    "print('Number of test data:', len(test))"
   ]
  },
  {
   "cell_type": "code",
   "execution_count": null,
   "metadata": {},
   "outputs": [],
   "source": [
    "# add label description\n",
    "with open('label-description.jsonl') as f:\n",
    "    label_desc = f.readlines()\n",
    "    label_desc = list(map(json.loads, label_desc))\n",
    "    label_desc = {line['label']: line['description'] for line in label_desc}\n",
    "\n",
    "for line in shuffle_train:\n",
    "    label_text = line.pop('label_text')\n",
    "    line['label'] = label2id[label_text]\n",
    "    line['label_description'] = label_desc[label_text]\n",
    "\n",
    "for line in test:\n",
    "    label_text = line.pop('label_text')\n",
    "    line['label'] = label2id[label_text]\n",
    "    line['label_description'] = label_desc[label_text]\n",
    "\n",
    "with open('train.json', 'w') as f:\n",
    "    json.dump(shuffle_train, f, ensure_ascii=False, indent=2)\n",
    "\n",
    "with open('test.json', 'w') as f:\n",
    "    json.dump(test, f, ensure_ascii=False, indent=2)"
   ]
  },
  {
   "cell_type": "code",
   "execution_count": null,
   "metadata": {},
   "outputs": [],
   "source": [
    "# add label description\n",
    "with open('label-description-with-example.jsonl') as f:\n",
    "    label_desc = f.readlines()\n",
    "    label_desc = list(map(json.loads, label_desc))\n",
    "    label_desc = {line['label']: line['description'] for line in label_desc}\n",
    "\n",
    "for line in shuffle_train:\n",
    "    label_text = id2label[line['label']]\n",
    "    line['label_description'] = label_desc[label_text]\n",
    "\n",
    "for line in test:\n",
    "    label_text = id2label[line['label']]\n",
    "    line['label_description'] = label_desc[label_text]\n",
    "\n",
    "with open('train-with-example.json', 'w') as f:\n",
    "    json.dump(shuffle_train, f, ensure_ascii=False, indent=2)\n",
    "\n",
    "with open('test-with-example.json', 'w') as f:\n",
    "    json.dump(test, f, ensure_ascii=False, indent=2)"
   ]
  }
 ],
 "metadata": {
  "kernelspec": {
   "display_name": "Python 3",
   "language": "python",
   "name": "python3"
  },
  "language_info": {
   "codemirror_mode": {
    "name": "ipython",
    "version": 3
   },
   "file_extension": ".py",
   "mimetype": "text/x-python",
   "name": "python",
   "nbconvert_exporter": "python",
   "pygments_lexer": "ipython3",
   "version": "3.11.4"
  },
  "orig_nbformat": 4
 },
 "nbformat": 4,
 "nbformat_minor": 2
}
