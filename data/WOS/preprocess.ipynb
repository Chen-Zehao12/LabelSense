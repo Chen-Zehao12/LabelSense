{
 "cells": [
  {
   "cell_type": "code",
   "execution_count": 2,
   "metadata": {},
   "outputs": [],
   "source": [
    "import json\n",
    "from collections import defaultdict\n",
    "import re\n",
    "import numpy as np\n",
    "import pandas as pd\n",
    "import random\n",
    "from sklearn.model_selection import train_test_split"
   ]
  },
  {
   "cell_type": "code",
   "execution_count": 99,
   "metadata": {},
   "outputs": [],
   "source": [
    "data = pd.read_excel('origin/Meta-data/Data.xlsx')\n",
    "data = json.loads(data.to_json(orient='index'))\n",
    "data = list(data.values())"
   ]
  },
  {
   "cell_type": "code",
   "execution_count": 100,
   "metadata": {},
   "outputs": [],
   "source": [
    "with open('label-description-with-example.jsonl') as f:\n",
    "# with open('label-description.jsonl') as f:\n",
    "    label_desc = f.readlines()\n",
    "    label_desc = list(map(json.loads, label_desc))\n",
    "    label_desc = {line['label']: line['description'] for line in label_desc}"
   ]
  },
  {
   "cell_type": "code",
   "execution_count": 101,
   "metadata": {},
   "outputs": [],
   "source": [
    "for line in data:\n",
    "    line['text'] = line['Abstract']\n",
    "    line['label'] = f\"{line['Domain'].strip()}.{line['area'].strip()}\"\n",
    "    for k in {'Y1', 'Y2', 'Y', 'Domain', 'area', 'keywords', 'Abstract'}:\n",
    "        line.pop(k)"
   ]
  },
  {
   "cell_type": "code",
   "execution_count": 102,
   "metadata": {},
   "outputs": [],
   "source": [
    "train, test = train_test_split(data, test_size=0.2, random_state=42)"
   ]
  },
  {
   "cell_type": "code",
   "execution_count": 103,
   "metadata": {},
   "outputs": [],
   "source": [
    "# count classes\n",
    "train_class_count = defaultdict(int)\n",
    "test_class_count = defaultdict(int)\n",
    "\n",
    "for line in train:\n",
    "    train_class_count[line['label']] += 1\n",
    "\n",
    "for line in test:\n",
    "    test_class_count[line['label']] += 1\n",
    "\n",
    "unseen_class_count = train_class_count.keys() - test_class_count.keys()"
   ]
  },
  {
   "cell_type": "code",
   "execution_count": 104,
   "metadata": {},
   "outputs": [
    {
     "name": "stdout",
     "output_type": "stream",
     "text": [
      "Number of train data: 37588\n",
      "Number of test data: 9397\n",
      "Number of classes in train data: 144\n",
      "Number of classes in test data: 143\n",
      "Number of unseen classes: 2\n",
      "Count of train label:\n",
      " [('biochemistry.Molecular biology', 599), ('biochemistry.Polymerase chain reaction', 593), ('biochemistry.Northern blotting', 561), ('biochemistry.Immunology', 506), ('biochemistry.Human Metabolism', 502), ('biochemistry.Enzymology', 452), ('biochemistry.Genetics', 445), ('biochemistry.Cell biology', 440), ('biochemistry.Southern blotting', 403), ('Civil.Rainwater Harvesting', 362), ('ECE.Electricity', 358), ('Civil.Water Pollution', 356), ('ECE.Digital control', 352), ('CS.network security', 351), ('CS.Parallel computing', 345), ('Civil.Geotextile', 345), ('ECE.PID controller', 344), ('ECE.Operational amplifier', 344), ('Civil.Green Building', 340), ('ECE.System identification', 340), ('CS.Computer vision', 338), ('Psychology.Attention', 337), ('CS.Software engineering', 335), ('ECE.Analog signal processing', 334), ('Psychology.Child abuse', 333), ('CS.Computer graphics', 332), ('CS.Computer programming', 332), ('Civil.Construction Management', 331), ('CS.Image processing', 331), ('CS.Symbolic computation', 330), ('ECE.Microcontroller', 330), ('MAE.Hydraulics', 329), ('CS.Machine learning', 326), ('Psychology.Person perception', 325), ('Psychology.Nonverbal communication', 325), ('CS.Algorithm design', 323), ('MAE.Machine design', 323), ('Psychology.Gender roles', 323), ('MAE.Internal combustion engine', 321), ('Psychology.Prenatal development', 318), ('Psychology.Social cognition', 318), ('Civil.Ambient Intelligence', 317), ('MAE.Fluid mechanics', 317), ('Psychology.Depression', 315), ('CS.Distributed computing', 314), ('Psychology.Eating disorders', 314), ('ECE.Electrical network', 312), ('Civil.Solar Energy', 308), ('CS.Data structures', 307), ('Civil.Suspension Bridge', 305), ('Medical.Allergies', 304), ('Psychology.Prosocial behavior', 303), ('Psychology.Problem-solving', 302), ('CS.Operating systems', 301), ('ECE.Electrical circuits', 301), ('Psychology.Prejudice', 300), ('CS.Relational databases', 300), ('Medical.Sports Injuries', 300), ('CS.Cryptography', 299), ('Medical.Fungal Infection', 298), ('Civil.Remote Sensing', 297), ('ECE.Electric motor', 296), ('MAE.computer-aided design', 296), ('Psychology.Borderline personality disorder', 295), ('Medical.Stress Management', 293), (\"Medical.Alzheimer's Disease\", 292), ('Civil.Smart Material', 292), ('MAE.Thermodynamics', 291), ('CS.Bioinformatics', 290), ('Psychology.Antisocial personality disorder', 290), ('Medical.Menopause', 290), ('Psychology.Seasonal affective disorder', 288), ('Medical.Diabetes', 288), ('Medical.HIV/AIDS', 286), ('Psychology.False memories', 286), ('Medical.Cancer', 283), ('Medical.Irritable Bowel Syndrome', 277), ('Medical.Overactive Bladder', 276), (\"Medical.Children's Health\", 276), ('MAE.Manufacturing engineering', 275), ('Psychology.Leadership', 275), ('ECE.State space representation', 273), ('Medical.Headache', 271), ('Medical.Weight Loss', 271), ('Medical.Parenting', 270), ('Medical.Birth Control', 267), ('Medical.Asthma', 266), ('Medical.Skin Care', 265), ('Psychology.Schizophrenia', 265), ('Medical.Ankylosing Spondylitis', 261), ('MAE.Strength of materials', 259), ('Medical.Autism', 258), ('Medical.Addiction', 252), ('Medical.Osteoarthritis', 248), ('Medical.Osteoporosis', 248), ('Psychology.Media violence', 243), ('Medical.Heart Disease', 242), ('Medical.Hypothyroidism', 238), ('Medical.Atrial Fibrillation', 238), ('Medical.Emergency Contraception', 238), ('Medical.Hepatitis C', 235), ('Medical.Low Testosterone', 234), (\"Medical.Parkinson's Disease\", 229), ('MAE.Materials Engineering', 224), ('Medical.Anxiety', 222), ('ECE.Control engineering', 217), ('ECE.Signal-flow graph', 214), ('Medical.Smoking Cessation', 210), ('Medical.Lymphoma', 210), ('Medical.Medicare', 202), ('Medical.Atopic Dermatitis', 201), ('Medical.Bipolar Disorder', 200), ('Medical.Idiopathic Pulmonary Fibrosis', 198), ('ECE.Electrical generator', 197), ('Medical.Multiple Sclerosis', 196), ('Medical.Dementia', 186), ('Medical.Mental Health', 181), ('Medical.Psoriatic Arthritis', 175), ('Medical.Myelofibrosis', 158), (\"Medical.Crohn's Disease\", 151), ('Medical.Rheumatoid Arthritis', 142), ('Medical.Hereditary Angioedema', 141), ('Medical.Migraine', 140), ('Civil.Stealth Technology', 117), ('Medical.Polycythemia Vera', 117), ('ECE.Satellite radio', 116), ('Medical.Healthy Sleep', 106), ('Medical.Sprains and Strains', 104), ('Medical.Depression', 103), ('Medical.Psoriasis', 100), ('Medical.Senior Health', 94), ('Medical.Digestive Health', 80), ('Medical.Kidney Health', 68), ('ECE.Voltage law', 45), ('ECE.Lorentz force law', 33), ('CS.Structured Storage', 32), ('Medical.Schizophrenia', 27), ('biochemistry.DNA/RNA sequencing', 9), ('Civil.Nano Concrete', 6), ('ECE.Single-phase electric power', 5), ('Civil.Highway Network System', 4), ('Civil.Transparent Concrete', 3), ('Civil.Bamboo as a Building Material', 1), ('Medical.Outdoor Health', 1)]\n",
      "Count of test label:\n",
      " [('biochemistry.Polymerase chain reaction', 157), ('biochemistry.Molecular biology', 147), ('biochemistry.Immunology', 146), ('biochemistry.Northern blotting', 138), ('biochemistry.Enzymology', 124), ('biochemistry.Genetics', 121), ('biochemistry.Human Metabolism', 120), ('biochemistry.Cell biology', 112), ('biochemistry.Southern blotting', 107), ('CS.Parallel computing', 98), ('MAE.Machine design', 97), ('CS.network security', 94), ('CS.Computer vision', 94), ('CS.Computer programming', 93), ('Civil.Ambient Intelligence', 93), ('Civil.Water Pollution', 90), ('Civil.Suspension Bridge', 90), ('CS.Distributed computing', 89), ('Psychology.Prejudice', 89), ('ECE.Electricity', 89), ('CS.Cryptography', 88), ('Civil.Remote Sensing', 87), ('ECE.PID controller', 85), ('Psychology.Prosocial behavior', 85), ('CS.Data structures', 85), ('CS.Image processing', 84), ('ECE.Microcontroller', 83), ('CS.Software engineering', 81), ('Psychology.Borderline personality disorder', 81), ('Civil.Construction Management', 81), ('Medical.Menopause', 81), ('ECE.Electrical network', 80), ('CS.Computer graphics', 80), ('Psychology.Social cognition', 79), ('Civil.Rainwater Harvesting', 79), ('CS.Operating systems', 79), ('Psychology.Attention', 79), ('Civil.Green Building', 78), ('Psychology.Antisocial personality disorder', 78), ('CS.Relational databases', 77), ('Medical.Hypothyroidism', 77), ('Psychology.Seasonal affective disorder', 77), ('ECE.System identification', 77), ('Medical.Cancer', 76), ('Civil.Solar Energy', 76), ('ECE.Electric motor', 76), ('Psychology.False memories', 76), (\"Medical.Alzheimer's Disease\", 76), ('MAE.Strength of materials', 76), ('Psychology.Leadership', 75), ('ECE.Operational amplifier', 75), ('MAE.computer-aided design', 75), ('CS.Bioinformatics', 75), ('Medical.Fungal Infection', 74), (\"Medical.Children's Health\", 74), ('ECE.Electrical circuits', 74), ('ECE.Digital control', 74), ('Medical.Skin Care', 74), ('Civil.Geotextile', 74), ('ECE.Analog signal processing', 73), ('MAE.Hydraulics', 73), ('Psychology.Eating disorders', 73), ('Medical.Parenting', 73), ('Medical.HIV/AIDS', 72), ('CS.Machine learning', 72), ('CS.Symbolic computation', 72), ('Medical.Osteoporosis', 72), ('Psychology.Gender roles', 72), ('Psychology.Prenatal development', 71), ('Psychology.Child abuse', 71), ('MAE.Manufacturing engineering', 71), ('ECE.State space representation', 71), ('Medical.Low Testosterone', 71), ('Civil.Smart Material', 71), ('MAE.Thermodynamics', 70), ('Medical.Headache', 70), ('Psychology.Schizophrenia', 70), ('MAE.Fluid mechanics', 69), (\"Medical.Parkinson's Disease\", 69), ('Psychology.Nonverbal communication', 69), ('Medical.Birth Control', 68), ('Medical.Stress Management', 68), ('MAE.Internal combustion engine', 66), ('Psychology.Person perception', 66), ('Medical.Sports Injuries', 65), ('Psychology.Depression', 65), ('MAE.Materials Engineering', 65), ('Medical.Diabetes', 65), ('Medical.Overactive Bladder', 64), ('Medical.Atopic Dermatitis', 61), ('Medical.Ankylosing Spondylitis', 60), ('Medical.Bipolar Disorder', 60), ('ECE.Signal-flow graph', 60), ('ECE.Control engineering', 59), ('Medical.Irritable Bowel Syndrome', 59), ('Psychology.Problem-solving', 58), ('Medical.Addiction', 57), ('Medical.Lymphoma', 57), ('Medical.Osteoarthritis', 57), ('Medical.Multiple Sclerosis', 57), ('Medical.Weight Loss', 56), ('CS.Algorithm design', 56), ('Medical.Atrial Fibrillation', 56), ('Medical.Emergency Contraception', 53), ('Medical.Hepatitis C', 53), ('Psychology.Media violence', 53), ('Medical.Allergies', 53), ('Medical.Medicare', 53), ('Medical.Autism', 51), ('Medical.Dementia', 51), ('Medical.Asthma', 51), ('Medical.Heart Disease', 49), ('Medical.Idiopathic Pulmonary Fibrosis', 48), (\"Medical.Crohn's Disease\", 47), ('Medical.Smoking Cessation', 47), ('Medical.Rheumatoid Arthritis', 46), ('ECE.Electrical generator', 43), ('Medical.Hereditary Angioedema', 41), ('Medical.Mental Health', 41), ('Medical.Anxiety', 40), ('Medical.Myelofibrosis', 40), ('Medical.Migraine', 38), ('Medical.Sprains and Strains', 38), ('ECE.Satellite radio', 32), ('Civil.Stealth Technology', 31), ('Medical.Polycythemia Vera', 31), ('Medical.Psoriasis', 28), ('Medical.Depression', 27), ('Medical.Psoriatic Arthritis', 27), ('Medical.Senior Health', 24), ('Medical.Healthy Sleep', 23), ('Medical.Kidney Health', 22), ('Medical.Digestive Health', 15), ('CS.Structured Storage', 11), ('Medical.Schizophrenia', 11), ('ECE.Lorentz force law', 11), ('ECE.Voltage law', 9), ('biochemistry.DNA/RNA sequencing', 5), ('Medical.Outdoor Health', 1), ('Civil.Bamboo as a Building Material', 1), ('Civil.Nano Concrete', 1), ('ECE.Single-phase electric power', 1), ('Civil.Underwater Windmill', 1)]\n"
     ]
    }
   ],
   "source": [
    "print('Number of train data:', len(train))\n",
    "print('Number of test data:', len(test))\n",
    "\n",
    "print('Number of classes in train data:', len(train_class_count))\n",
    "print('Number of classes in test data:', len(test_class_count))\n",
    "print('Number of unseen classes:', len(unseen_class_count))\n",
    "\n",
    "print('Count of train label:\\n', sorted(train_class_count.items(), key=lambda x: -x[1]))\n",
    "print('Count of test label:\\n', sorted(test_class_count.items(), key=lambda x: -x[1]))"
   ]
  },
  {
   "cell_type": "code",
   "execution_count": 105,
   "metadata": {},
   "outputs": [],
   "source": [
    "# label2id\n",
    "label2id = dict()\n",
    "cnt = 0\n",
    "\n",
    "for line in train:\n",
    "    if line['label'] not in label2id:\n",
    "        label2id[line['label']] = cnt\n",
    "        cnt += 1\n",
    "\n",
    "for line in test:\n",
    "    if line['label'] not in label2id:\n",
    "        label2id[line['label']] = cnt\n",
    "        cnt += 1\n",
    "\n",
    "id2label = {v: k for k, v in label2id.items()}"
   ]
  },
  {
   "cell_type": "code",
   "execution_count": 106,
   "metadata": {},
   "outputs": [],
   "source": [
    "# delete long tail data\n",
    "label_collection = [[] for _ in range(len(train_class_count))]\n",
    "for line in train:\n",
    "    idx = label2id[line['label']]\n",
    "    label_collection[idx].append(line)\n",
    "\n",
    "threshold = int(np.percentile([len(t) for t in label_collection], 25))\n",
    "label_collection = [random.sample(t, threshold) for t in label_collection if len(t) > threshold]"
   ]
  },
  {
   "cell_type": "code",
   "execution_count": 107,
   "metadata": {},
   "outputs": [],
   "source": [
    "# refresh label2id\n",
    "label2id = dict()\n",
    "for idx, piece in enumerate(label_collection):\n",
    "    label2id[piece[0]['label']] = idx\n",
    "\n",
    "id2label = {v: k for k, v in label2id.items()}"
   ]
  },
  {
   "cell_type": "code",
   "execution_count": 108,
   "metadata": {},
   "outputs": [],
   "source": [
    "# delete unseen test\n",
    "idx = 0\n",
    "while idx < len(test):\n",
    "    if test[idx]['label'] not in label2id:\n",
    "        test.pop(idx)\n",
    "    else:\n",
    "        idx += 1"
   ]
  },
  {
   "cell_type": "code",
   "execution_count": 109,
   "metadata": {},
   "outputs": [],
   "source": [
    "with open('id2label.json', 'w') as f:\n",
    "    json.dump(id2label, f, ensure_ascii=False, indent=2)\n",
    "\n",
    "with open('label2id.json', 'w') as f:\n",
    "    json.dump(label2id, f, ensure_ascii=False, indent=2)"
   ]
  },
  {
   "cell_type": "code",
   "execution_count": 110,
   "metadata": {},
   "outputs": [],
   "source": [
    "# shuffle train dataset\n",
    "collection_pointer = [0] * len(label_collection)\n",
    "\n",
    "shuffle_train = []\n",
    "global_idx, idx = 0, 0\n",
    "while global_idx < sum(len(t) for t in label_collection):\n",
    "    if collection_pointer[idx] < len(label_collection[idx]):\n",
    "        shuffle_train.append(label_collection[idx][collection_pointer[idx]])\n",
    "        collection_pointer[idx] += 1\n",
    "        idx = (idx + 1) % len(label_collection)\n",
    "        global_idx += 1\n",
    "    else:\n",
    "        idx = (idx + 1) % len(label_collection) "
   ]
  },
  {
   "cell_type": "code",
   "execution_count": 111,
   "metadata": {},
   "outputs": [
    {
     "name": "stdout",
     "output_type": "stream",
     "text": [
      "Number of train data: 22470\n",
      "Number of test data: 8317\n"
     ]
    }
   ],
   "source": [
    "print('Number of train data:', len(shuffle_train))\n",
    "print('Number of test data:', len(test))"
   ]
  },
  {
   "cell_type": "code",
   "execution_count": 112,
   "metadata": {},
   "outputs": [],
   "source": [
    "# add label description\n",
    "for line in shuffle_train:\n",
    "    label_text = line['label']\n",
    "    line['label'] = label2id[line['label']]\n",
    "    line['label_description'] = label_desc[label_text]\n",
    "\n",
    "for line in test:\n",
    "    label_text = line['label']\n",
    "    line['label'] = label2id[line['label']]\n",
    "    line['label_description'] = label_desc[label_text]"
   ]
  },
  {
   "cell_type": "code",
   "execution_count": 113,
   "metadata": {},
   "outputs": [],
   "source": [
    "with open('train.json', 'w') as f:\n",
    "    json.dump(shuffle_train, f, ensure_ascii=False, indent=2)\n",
    "\n",
    "with open('test.json', 'w') as f:\n",
    "    json.dump(test, f, ensure_ascii=False, indent=2)"
   ]
  },
  {
   "cell_type": "code",
   "execution_count": 3,
   "metadata": {},
   "outputs": [],
   "source": [
    "with open('train.json') as f:\n",
    "    t = json.load(f)"
   ]
  }
 ],
 "metadata": {
  "kernelspec": {
   "display_name": "Python 3",
   "language": "python",
   "name": "python3"
  },
  "language_info": {
   "codemirror_mode": {
    "name": "ipython",
    "version": 3
   },
   "file_extension": ".py",
   "mimetype": "text/x-python",
   "name": "python",
   "nbconvert_exporter": "python",
   "pygments_lexer": "ipython3",
   "version": "3.11.4"
  },
  "orig_nbformat": 4
 },
 "nbformat": 4,
 "nbformat_minor": 2
}
