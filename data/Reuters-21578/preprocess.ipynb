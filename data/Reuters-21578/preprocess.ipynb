{
 "cells": [
  {
   "cell_type": "code",
   "execution_count": 1,
   "metadata": {},
   "outputs": [],
   "source": [
    "import json\n",
    "from collections import defaultdict\n",
    "import re\n",
    "import numpy as np\n",
    "import random\n",
    "from sklearn.model_selection import train_test_split"
   ]
  },
  {
   "cell_type": "code",
   "execution_count": 2,
   "metadata": {},
   "outputs": [],
   "source": [
    "state = '50%*1'\n",
    "\n",
    "file_names = [\"reut2-\" + \"%03d\" % i + \".sgm\" for i in range(22)]\n",
    "data = []\n",
    "for file_name in file_names:\n",
    "    try:\n",
    "        with open(f'origin/{file_name}') as f:\n",
    "            file = f.readlines()\n",
    "    except:\n",
    "        with open(f'origin/{file_name}', 'rb') as f:\n",
    "            file = f.readlines()\n",
    "            file = list(map(lambda x: x.decode('utf-8', 'ignore'), file))\n",
    "            \n",
    "    file = ''.join(file)\n",
    "    file = re.findall('<REUTERS.*?</REUTERS>', file, re.DOTALL)\n",
    "    for line in file:\n",
    "        topics_raw = re.findall('<TOPICS>(<D>.*</D>)</TOPICS>', line)\n",
    "        if topics_raw:\n",
    "            topics = re.findall('<D>(.*?)</D>', topics_raw[0])\n",
    "            text = re.findall('<BODY>(.*?)</BODY>', line.replace('\\n', ''))\n",
    "            if text:\n",
    "                text = ' '.join(text[0].split())\n",
    "                text = re.sub(r\"&#\\d*;\", '', text)\n",
    "                data.append({\n",
    "                    'text': text,\n",
    "                    'labels': topics\n",
    "                })"
   ]
  },
  {
   "cell_type": "code",
   "execution_count": 3,
   "metadata": {},
   "outputs": [],
   "source": [
    "train, test = train_test_split(data, test_size=0.2, random_state=42)"
   ]
  },
  {
   "cell_type": "code",
   "execution_count": 4,
   "metadata": {},
   "outputs": [],
   "source": [
    "# delete \\n and \\\n",
    "for line in train:\n",
    "    line['text'] = line['text'].replace('\\n', ' ')\n",
    "    line['text'] = line['text'].replace('\\\\', '')\n",
    "\n",
    "for line in test:\n",
    "    line['text'] = line['text'].replace('\\n', ' ')\n",
    "    line['text'] = line['text'].replace('\\\\', '')"
   ]
  },
  {
   "cell_type": "code",
   "execution_count": 5,
   "metadata": {},
   "outputs": [],
   "source": [
    "# count classes\n",
    "train_class_count = defaultdict(int)\n",
    "test_class_count = defaultdict(int)\n",
    "\n",
    "for line in train:\n",
    "    for label in line['labels']:\n",
    "        train_class_count[label] += 1\n",
    "\n",
    "for line in test:\n",
    "    for label in line['labels']:\n",
    "        test_class_count[label] += 1\n",
    "\n",
    "unseen_class_count = train_class_count.keys() - test_class_count.keys()"
   ]
  },
  {
   "cell_type": "code",
   "execution_count": 6,
   "metadata": {},
   "outputs": [
    {
     "name": "stdout",
     "output_type": "stream",
     "text": [
      "Number of train data: 8301\n",
      "Number of test data: 2076\n",
      "Number of classes in train data: 116\n",
      "Number of classes in test data: 84\n",
      "Number of unseen classes: 35\n",
      "Count of train label:\n",
      " [('earn', 3004), ('acq', 1773), ('money-fx', 532), ('grain', 468), ('crude', 451), ('trade', 385), ('interest', 340), ('ship', 246), ('wheat', 235), ('corn', 180), ('sugar', 150), ('oilseed', 144), ('dlr', 133), ('gnp', 122), ('coffee', 115), ('veg-oil', 108), ('gold', 106), ('nat-gas', 101), ('money-supply', 100), ('livestock', 92), ('soybean', 89), ('bop', 83), ('cpi', 79), ('reserves', 64), ('carcass', 64), ('copper', 61), ('jobs', 57), ('cocoa', 57), ('rice', 55), ('iron-steel', 52), ('cotton', 51), ('yen', 50), ('ipi', 47), ('alum', 45), ('meal-feed', 43), ('barley', 40), ('gas', 40), ('rubber', 38), ('palm-oil', 35), ('pet-chem', 33), ('zinc', 32), ('silver', 31), ('sorghum', 31), ('strategic-metal', 27), ('tin', 26), ('lead', 25), ('rapeseed', 25), ('wpi', 24), ('fuel', 22), ('soy-oil', 21), ('soy-meal', 21), ('hog', 20), ('orange', 20), ('heat', 20), ('retail', 17), ('housing', 16), ('lumber', 14), ('stg', 13), ('sunseed', 13), ('tea', 13), ('lei', 12), ('dmk', 12), ('income', 11), ('oat', 10), ('nickel', 9), ('groundnut', 8), ('platinum', 8), ('l-cattle', 8), ('sun-oil', 8), ('naphtha', 6), ('rape-oil', 6), ('coconut', 6), ('coconut-oil', 6), ('potato', 6), ('jet', 6), ('inventories', 5), ('propane', 4), ('plywood', 4), ('tapioca', 4), ('instal-debt', 4), ('palladium', 3), ('austdlr', 3), ('f-cattle', 3), ('lit', 3), ('pork-belly', 3), ('saudriyal', 3), ('cotton-oil', 3), ('dfl', 3), ('copra-cake', 3), ('palmkernel', 3), ('fishmeal', 2), ('cornglutenfeed', 2), ('rand', 2), ('groundnut-oil', 2), ('nkr', 2), ('nzdlr', 2), ('cpu', 2), ('wool', 2), ('lin-oil', 2), ('rye', 2), ('castor-oil', 2), ('sun-meal', 2), ('skr', 1), ('dkr', 1), ('cottonseed', 1), ('corn-oil', 1), ('citruspulp', 1), ('rape-meal', 1), ('linseed', 1), ('sfr', 1), ('red-bean', 1), ('rupiah', 1), ('castorseed', 1), ('bfr', 1), ('lin-meal', 1), ('can', 1)]\n",
      "Count of test label:\n",
      " [('earn', 772), ('acq', 437), ('money-fx', 152), ('trade', 130), ('crude', 115), ('grain', 106), ('interest', 84), ('wheat', 52), ('ship', 49), ('corn', 44), ('oilseed', 38), ('dlr', 35), ('gnp', 31), ('coffee', 28), ('veg-oil', 28), ('gold', 27), ('money-supply', 26), ('nat-gas', 25), ('sugar', 25), ('cpi', 22), ('soybean', 22), ('livestock', 20), ('bop', 18), ('copper', 16), ('gas', 15), ('alum', 13), ('iron-steel', 13), ('rice', 12), ('cocoa', 11), ('cotton', 11), ('zinc', 11), ('rubber', 11), ('jobs', 11), ('carcass', 11), ('rapeseed', 10), ('lead', 10), ('ipi', 10), ('reserves', 9), ('pet-chem', 8), ('barley', 8), ('yen', 8), ('tin', 7), ('palm-oil', 7), ('meal-feed', 7), ('fuel', 6), ('retail', 6), ('hog', 6), ('heat', 5), ('orange', 5), ('silver', 5), ('strategic-metal', 5), ('wpi', 5), ('soy-meal', 5), ('sunseed', 4), ('soy-oil', 4), ('stg', 4), ('oat', 3), ('sorghum', 3), ('platinum', 3), ('lumber', 3), ('groundnut', 2), ('nickel', 2), ('tea', 2), ('rape-oil', 2), ('propane', 2), ('jet', 2), ('can', 2), ('nzdlr', 2), ('dmk', 2), ('housing', 2), ('sfr', 2), ('linseed', 1), ('instal-debt', 1), ('coconut-oil', 1), ('peseta', 1), ('rand', 1), ('austdlr', 1), ('income', 1), ('hk', 1), ('lei', 1), ('naphtha', 1), ('ringgit', 1), ('l-cattle', 1), ('inventories', 1)]\n"
     ]
    }
   ],
   "source": [
    "print('Number of train data:', len(train))\n",
    "print('Number of test data:', len(test))\n",
    "\n",
    "print('Number of classes in train data:', len(train_class_count))\n",
    "print('Number of classes in test data:', len(test_class_count))\n",
    "print('Number of unseen classes:', len(unseen_class_count))\n",
    "\n",
    "print('Count of train label:\\n', sorted(train_class_count.items(), key=lambda x: -x[1]))\n",
    "print('Count of test label:\\n', sorted(test_class_count.items(), key=lambda x: -x[1]))"
   ]
  },
  {
   "cell_type": "code",
   "execution_count": 7,
   "metadata": {},
   "outputs": [
    {
     "name": "stdout",
     "output_type": "stream",
     "text": [
      "Avg length of train text: 798.7025659559089\n",
      "Avg length of test text: 790.3684971098265\n"
     ]
    }
   ],
   "source": [
    "train_text_length, test_text_length = 0, 0\n",
    "for line in train:\n",
    "    train_text_length += len(line['text'])\n",
    "for line in test:\n",
    "    test_text_length += len(line['text'])\n",
    "\n",
    "print('Avg length of train text:', train_text_length / len(train))\n",
    "print('Avg length of test text:', test_text_length / len(test))"
   ]
  },
  {
   "cell_type": "code",
   "execution_count": 8,
   "metadata": {},
   "outputs": [],
   "source": [
    "# label2id\n",
    "label2id = dict()\n",
    "cnt = 0\n",
    "\n",
    "for line in train:\n",
    "    for label in line['labels']:\n",
    "        if label not in label2id:\n",
    "            label2id[label] = cnt\n",
    "            cnt += 1\n",
    "\n",
    "for line in test:\n",
    "    for label in line['labels']:\n",
    "        if label not in label2id:\n",
    "            label2id[label] = cnt\n",
    "            cnt += 1\n",
    "\n",
    "id2label = {v: k for k, v in label2id.items()}"
   ]
  },
  {
   "cell_type": "code",
   "execution_count": 9,
   "metadata": {},
   "outputs": [],
   "source": [
    "# to one label, labels[0] is the rarest one\n",
    "for line in train:\n",
    "    minn, minn_label = 20000, ''\n",
    "    for label in line['labels']:\n",
    "        if train_class_count[label] < minn:\n",
    "            minn = train_class_count[label]\n",
    "            minn_label = label\n",
    "    if line['labels'][0] != minn_label:\n",
    "        line['labels'].remove(minn_label)\n",
    "        line['labels'].insert(0, minn_label)"
   ]
  },
  {
   "cell_type": "code",
   "execution_count": 10,
   "metadata": {},
   "outputs": [],
   "source": [
    "# delete long tail data\n",
    "label_collection = [[] for _ in range(len(train_class_count))]\n",
    "for line in train:\n",
    "    idx = label2id[line['labels'][0]]\n",
    "    label_collection[idx].append(line)\n",
    "\n",
    "if state == '50%*1':\n",
    "    threshold = int(np.percentile([len(t) for t in label_collection], 50))\n",
    "    label_collection = [t[:threshold * 1] for t in label_collection if len(t) >= threshold]\n",
    "elif state == '25%*3':\n",
    "    threshold = int(np.percentile([len(t) for t in label_collection], 25))\n",
    "    label_collection = [t[:threshold * 3] for t in label_collection if len(t) >= threshold]"
   ]
  },
  {
   "cell_type": "code",
   "execution_count": 11,
   "metadata": {},
   "outputs": [],
   "source": [
    "# refresh label2id\n",
    "label2id = dict()\n",
    "for idx, piece in enumerate(label_collection):\n",
    "    label2id[piece[0]['labels'][0]] = idx\n",
    "\n",
    "id2label = {v: k for k, v in label2id.items()}"
   ]
  },
  {
   "cell_type": "code",
   "execution_count": 12,
   "metadata": {},
   "outputs": [],
   "source": [
    "# delete unseen test\n",
    "idx = 0\n",
    "while idx < len(test):\n",
    "    for label in test[idx]['labels']:\n",
    "        if label not in label2id:\n",
    "            test.pop(idx)\n",
    "            break\n",
    "    else:\n",
    "        idx += 1"
   ]
  },
  {
   "cell_type": "code",
   "execution_count": null,
   "metadata": {},
   "outputs": [],
   "source": [
    "with open(f'{state}/id2label.json', 'w') as f:\n",
    "    json.dump(id2label, f, ensure_ascii=False, indent=2)\n",
    "\n",
    "with open(f'{state}/label2id.json', 'w') as f:\n",
    "    json.dump(label2id, f, ensure_ascii=False, indent=2)"
   ]
  },
  {
   "cell_type": "code",
   "execution_count": 13,
   "metadata": {},
   "outputs": [],
   "source": [
    "# shuffle train dataset\n",
    "collection_pointer = [0] * len(label_collection)\n",
    "\n",
    "shuffle_train = []\n",
    "global_idx, idx = 0, 0\n",
    "while global_idx < sum(len(t) for t in label_collection):\n",
    "    if collection_pointer[idx] < len(label_collection[idx]):\n",
    "        shuffle_train.append(label_collection[idx][collection_pointer[idx]])\n",
    "        collection_pointer[idx] += 1\n",
    "        idx = (idx + 1) % len(label_collection)\n",
    "        global_idx += 1\n",
    "    else:\n",
    "        idx = (idx + 1) % len(label_collection) "
   ]
  },
  {
   "cell_type": "code",
   "execution_count": 14,
   "metadata": {},
   "outputs": [],
   "source": [
    "# subset of test\n",
    "test = test[:len(shuffle_train) * 3]"
   ]
  },
  {
   "cell_type": "code",
   "execution_count": 15,
   "metadata": {},
   "outputs": [
    {
     "name": "stdout",
     "output_type": "stream",
     "text": [
      "Number of train data: 671\n",
      "Number of test data: 2013\n"
     ]
    }
   ],
   "source": [
    "print('Number of train data:', len(shuffle_train))\n",
    "print('Number of test data:', len(test))"
   ]
  },
  {
   "cell_type": "code",
   "execution_count": 16,
   "metadata": {},
   "outputs": [],
   "source": [
    "# delete unseen train labels\n",
    "for line in shuffle_train:\n",
    "    idx = 0\n",
    "    while idx < len(line['labels']):\n",
    "        if line['labels'][idx] not in label2id:\n",
    "            line['labels'].pop(idx)\n",
    "        else:\n",
    "            idx += 1"
   ]
  },
  {
   "cell_type": "code",
   "execution_count": 17,
   "metadata": {},
   "outputs": [
    {
     "name": "stdout",
     "output_type": "stream",
     "text": [
      "Number of train data: 671\n",
      "Number of test data: 2013\n",
      "Number of classes in train data: 61\n",
      "Number of classes in test data: 61\n",
      "Number of unseen classes: 0\n",
      "Count of train label:\n",
      " [('grain', 105), ('money-fx', 55), ('oilseed', 50), ('corn', 47), ('wheat', 43), ('veg-oil', 38), ('crude', 35), ('livestock', 35), ('trade', 32), ('meal-feed', 26), ('gnp', 24), ('soybean', 24), ('interest', 21), ('coffee', 20), ('gold', 19), ('ship', 19), ('zinc', 19), ('acq', 18), ('dlr', 18), ('earn', 17), ('rice', 17), ('gas', 17), ('carcass', 16), ('cotton', 16), ('strategic-metal', 15), ('sugar', 15), ('nat-gas', 15), ('rubber', 15), ('barley', 14), ('bop', 14), ('cpi', 14), ('money-supply', 14), ('cocoa', 14), ('soy-meal', 14), ('copper', 13), ('iron-steel', 13), ('jobs', 13), ('ipi', 13), ('silver', 13), ('palm-oil', 13), ('retail', 13), ('housing', 12), ('reserves', 12), ('wpi', 12), ('sorghum', 12), ('soy-oil', 12), ('orange', 12), ('rapeseed', 12), ('lead', 11), ('lei', 11), ('tin', 11), ('pet-chem', 11), ('fuel', 11), ('stg', 11), ('hog', 11), ('yen', 11), ('alum', 11), ('income', 11), ('heat', 11), ('lumber', 11), ('tea', 11)]\n",
      "Count of test label:\n",
      " [('earn', 760), ('acq', 428), ('money-fx', 139), ('trade', 128), ('crude', 111), ('grain', 99), ('interest', 81), ('wheat', 49), ('ship', 47), ('corn', 40), ('oilseed', 33), ('dlr', 31), ('gnp', 30), ('coffee', 28), ('sugar', 25), ('gold', 25), ('veg-oil', 25), ('nat-gas', 24), ('money-supply', 24), ('cpi', 22), ('livestock', 19), ('soybean', 18), ('bop', 17), ('copper', 15), ('gas', 15), ('alum', 13), ('iron-steel', 13), ('rice', 12), ('cocoa', 11), ('zinc', 11), ('rubber', 11), ('jobs', 11), ('carcass', 11), ('cotton', 10), ('lead', 10), ('rapeseed', 9), ('reserves', 9), ('ipi', 9), ('tin', 7), ('pet-chem', 7), ('barley', 7), ('yen', 7), ('meal-feed', 7), ('palm-oil', 6), ('retail', 6), ('hog', 6), ('orange', 5), ('silver', 5), ('strategic-metal', 5), ('wpi', 5), ('soy-meal', 5), ('heat', 4), ('fuel', 4), ('soy-oil', 4), ('lumber', 3), ('stg', 3), ('tea', 2), ('housing', 2), ('sorghum', 1), ('income', 1), ('lei', 1)]\n",
      "Avg length of train text: 1062.280178837556\n",
      "Avg length of test text: 780.9080973671138\n"
     ]
    }
   ],
   "source": [
    "# count classes\n",
    "train_class_count = defaultdict(int)\n",
    "test_class_count = defaultdict(int)\n",
    "\n",
    "for line in shuffle_train:\n",
    "    for label in line['labels']:\n",
    "        train_class_count[label] += 1\n",
    "\n",
    "for line in test:\n",
    "    for label in line['labels']:\n",
    "        test_class_count[label] += 1\n",
    "\n",
    "unseen_class_count = train_class_count.keys() - test_class_count.keys()\n",
    "print('Number of train data:', len(shuffle_train))\n",
    "print('Number of test data:', len(test))\n",
    "\n",
    "print('Number of classes in train data:', len(train_class_count))\n",
    "print('Number of classes in test data:', len(test_class_count))\n",
    "print('Number of unseen classes:', len(unseen_class_count))\n",
    "\n",
    "print('Count of train label:\\n', sorted(train_class_count.items(), key=lambda x: -x[1]))\n",
    "print('Count of test label:\\n', sorted(test_class_count.items(), key=lambda x: -x[1]))\n",
    "\n",
    "train_text_length, test_text_length = 0, 0\n",
    "for line in shuffle_train:\n",
    "    train_text_length += len(line['text'])\n",
    "for line in test:\n",
    "    test_text_length += len(line['text'])\n",
    "\n",
    "print('Avg length of train text:', train_text_length / len(shuffle_train))\n",
    "print('Avg length of test text:', test_text_length / len(test))"
   ]
  },
  {
   "cell_type": "code",
   "execution_count": null,
   "metadata": {},
   "outputs": [],
   "source": [
    "# add label description\n",
    "with open('label-description.jsonl') as f:\n",
    "    label_desc = f.readlines()\n",
    "    label_desc = list(map(json.loads, label_desc))\n",
    "    label_desc = {line['label']: line['description'] for line in label_desc}\n",
    "\n",
    "for line in shuffle_train:\n",
    "    label_text = line['labels'][0]\n",
    "    for i, label in enumerate(line['labels']):\n",
    "        line['labels'][i] = label2id[label]\n",
    "    line['label_description'] = label_desc[label_text]\n",
    "\n",
    "for line in test:\n",
    "    label_text = line['labels'][0]\n",
    "    for i, label in enumerate(line['labels']):\n",
    "        line['labels'][i] = label2id[label]\n",
    "    line['label_description'] = label_desc[label_text]\n",
    "\n",
    "with open(f'{state}/train.json', 'w') as f:\n",
    "    json.dump(shuffle_train, f, ensure_ascii=False, indent=2)\n",
    "\n",
    "with open(f'{state}/test.json', 'w') as f:\n",
    "    json.dump(test, f, ensure_ascii=False, indent=2)"
   ]
  },
  {
   "cell_type": "code",
   "execution_count": null,
   "metadata": {},
   "outputs": [],
   "source": [
    "# add label description\n",
    "with open('label-description-with-example.jsonl') as f:\n",
    "    label_desc = f.readlines()\n",
    "    label_desc = list(map(json.loads, label_desc))\n",
    "    label_desc = {line['label']: line['description'] for line in label_desc}\n",
    "\n",
    "for line in shuffle_train:\n",
    "    label_text = id2label[line['labels'][0]]\n",
    "    line['label_description'] = label_desc[label_text]\n",
    "\n",
    "for line in test:\n",
    "    label_text = id2label[line['labels'][0]]\n",
    "    line['label_description'] = label_desc[label_text]\n",
    "\n",
    "with open(f'{state}/train-with-example.json', 'w') as f:\n",
    "    json.dump(shuffle_train, f, ensure_ascii=False, indent=2)\n",
    "\n",
    "with open(f'{state}/test-with-example.json', 'w') as f:\n",
    "    json.dump(test, f, ensure_ascii=False, indent=2)"
   ]
  }
 ],
 "metadata": {
  "kernelspec": {
   "display_name": "Python 3",
   "language": "python",
   "name": "python3"
  },
  "language_info": {
   "codemirror_mode": {
    "name": "ipython",
    "version": 3
   },
   "file_extension": ".py",
   "mimetype": "text/x-python",
   "name": "python",
   "nbconvert_exporter": "python",
   "pygments_lexer": "ipython3",
   "version": "3.11.4"
  },
  "orig_nbformat": 4
 },
 "nbformat": 4,
 "nbformat_minor": 2
}
